{
 "cells": [
  {
   "cell_type": "code",
   "execution_count": 1,
   "metadata": {},
   "outputs": [],
   "source": [
    "import gym\n",
    "import numpy as np"
   ]
  },
  {
   "cell_type": "code",
   "execution_count": 2,
   "metadata": {},
   "outputs": [],
   "source": [
    "env = gym.make('FrozenLake-v0')"
   ]
  },
  {
   "cell_type": "code",
   "execution_count": 3,
   "metadata": {},
   "outputs": [
    {
     "name": "stdout",
     "output_type": "stream",
     "text": [
      "observation_space:  16\n",
      "action_space:  4\n"
     ]
    }
   ],
   "source": [
    "print(\"observation_space: \", env.observation_space.n)\n",
    "print(\"action_space: \", env.action_space.n)\n"
   ]
  },
  {
   "cell_type": "code",
   "execution_count": 4,
   "metadata": {},
   "outputs": [],
   "source": [
    "\n",
    "def value_iteration(env, gamma=1.0):\n",
    "    value_table = np.zeros(env.observation_space.n)\n",
    "    no_of_iterations = 10000\n",
    "    threshold = 1e-20\n",
    "    \n",
    "    for i in range(no_of_iterations):\n",
    "        updated_value_table = value_table.copy()\n",
    "\n",
    "        for state in range(env.observation_space.n):\n",
    "            Q_value = []\n",
    "            for action in range(env.action_space.n):\n",
    "                next_states_rewards = []\n",
    "                for next_sr in env.P[state][action]:\n",
    "                    trans_prob, next_state, reward_prob, _ = next_sr\n",
    "                    next_states_rewards.append((trans_prob* (reward_prob+gamma*updated_value_table[next_state])))\n",
    "                Q_value.append(np.sum(next_states_rewards))\n",
    "            value_table[state] = max(Q_value)\n",
    "#         print(value_table)\n",
    "#         print()\n",
    "        if(np.sum(np.fabs(updated_value_table-value_table))<=threshold):\n",
    "            print(\"Value-iteration converged at iteration# %d.\"%(i+1))\n",
    "            break\n",
    "            \n",
    "    return value_table\n",
    "\n",
    "            "
   ]
  },
  {
   "cell_type": "code",
   "execution_count": 5,
   "metadata": {},
   "outputs": [
    {
     "name": "stdout",
     "output_type": "stream",
     "text": [
      "Value-iteration converged at iteration# 1373.\n"
     ]
    }
   ],
   "source": [
    "optimal_value_function = value_iteration(env)"
   ]
  },
  {
   "cell_type": "code",
   "execution_count": 6,
   "metadata": {},
   "outputs": [],
   "source": [
    "def extract_policy(value_table, gamma = 1.0):\n",
    "    policy = np.zeros(env.observation_space.n)\n",
    "    for state in range(env.observation_space.n):\n",
    "        Q_table = np.zeros(env.action_space.n)\n",
    "        for action in range(env.action_space.n):\n",
    "            for next_sr in env.P[state][action]:\n",
    "                trans_prob, next_state, reward_prob, _ = next_sr\n",
    "                Q_table[action]+=(trans_prob*(reward_prob+gamma*value_table[next_state]))\n",
    "        policy[state] = np.argmax(Q_table)\n",
    "    return  policy"
   ]
  },
  {
   "cell_type": "code",
   "execution_count": 7,
   "metadata": {},
   "outputs": [
    {
     "name": "stdout",
     "output_type": "stream",
     "text": [
      "[0. 3. 3. 3. 0. 0. 0. 0. 3. 1. 0. 0. 0. 2. 1. 0.]\n"
     ]
    }
   ],
   "source": [
    "optimal_policy_function = extract_policy(optimal_value_function)\n",
    "print(optimal_policy_function)"
   ]
  },
  {
   "cell_type": "code",
   "execution_count": 8,
   "metadata": {},
   "outputs": [
    {
     "name": "stdout",
     "output_type": "stream",
     "text": [
      "state: 0, action: 0\n",
      "[(0.3333333333333333, 0, 0.0, False), (0.3333333333333333, 0, 0.0, False), (0.3333333333333333, 4, 0.0, False)]\n",
      "\n",
      "state: 0, action: 1\n",
      "[(0.3333333333333333, 0, 0.0, False), (0.3333333333333333, 4, 0.0, False), (0.3333333333333333, 1, 0.0, False)]\n",
      "\n",
      "state: 0, action: 2\n",
      "[(0.3333333333333333, 4, 0.0, False), (0.3333333333333333, 1, 0.0, False), (0.3333333333333333, 0, 0.0, False)]\n",
      "\n",
      "state: 0, action: 3\n",
      "[(0.3333333333333333, 1, 0.0, False), (0.3333333333333333, 0, 0.0, False), (0.3333333333333333, 0, 0.0, False)]\n",
      "\n",
      "state: 1, action: 0\n",
      "[(0.3333333333333333, 1, 0.0, False), (0.3333333333333333, 0, 0.0, False), (0.3333333333333333, 5, 0.0, True)]\n",
      "\n",
      "state: 1, action: 1\n",
      "[(0.3333333333333333, 0, 0.0, False), (0.3333333333333333, 5, 0.0, True), (0.3333333333333333, 2, 0.0, False)]\n",
      "\n",
      "state: 1, action: 2\n",
      "[(0.3333333333333333, 5, 0.0, True), (0.3333333333333333, 2, 0.0, False), (0.3333333333333333, 1, 0.0, False)]\n",
      "\n",
      "state: 1, action: 3\n",
      "[(0.3333333333333333, 2, 0.0, False), (0.3333333333333333, 1, 0.0, False), (0.3333333333333333, 0, 0.0, False)]\n",
      "\n",
      "state: 2, action: 0\n",
      "[(0.3333333333333333, 2, 0.0, False), (0.3333333333333333, 1, 0.0, False), (0.3333333333333333, 6, 0.0, False)]\n",
      "\n",
      "state: 2, action: 1\n",
      "[(0.3333333333333333, 1, 0.0, False), (0.3333333333333333, 6, 0.0, False), (0.3333333333333333, 3, 0.0, False)]\n",
      "\n",
      "state: 2, action: 2\n",
      "[(0.3333333333333333, 6, 0.0, False), (0.3333333333333333, 3, 0.0, False), (0.3333333333333333, 2, 0.0, False)]\n",
      "\n",
      "state: 2, action: 3\n",
      "[(0.3333333333333333, 3, 0.0, False), (0.3333333333333333, 2, 0.0, False), (0.3333333333333333, 1, 0.0, False)]\n",
      "\n",
      "state: 3, action: 0\n",
      "[(0.3333333333333333, 3, 0.0, False), (0.3333333333333333, 2, 0.0, False), (0.3333333333333333, 7, 0.0, True)]\n",
      "\n",
      "state: 3, action: 1\n",
      "[(0.3333333333333333, 2, 0.0, False), (0.3333333333333333, 7, 0.0, True), (0.3333333333333333, 3, 0.0, False)]\n",
      "\n",
      "state: 3, action: 2\n",
      "[(0.3333333333333333, 7, 0.0, True), (0.3333333333333333, 3, 0.0, False), (0.3333333333333333, 3, 0.0, False)]\n",
      "\n",
      "state: 3, action: 3\n",
      "[(0.3333333333333333, 3, 0.0, False), (0.3333333333333333, 3, 0.0, False), (0.3333333333333333, 2, 0.0, False)]\n",
      "\n",
      "state: 4, action: 0\n",
      "[(0.3333333333333333, 0, 0.0, False), (0.3333333333333333, 4, 0.0, False), (0.3333333333333333, 8, 0.0, False)]\n",
      "\n",
      "state: 4, action: 1\n",
      "[(0.3333333333333333, 4, 0.0, False), (0.3333333333333333, 8, 0.0, False), (0.3333333333333333, 5, 0.0, True)]\n",
      "\n",
      "state: 4, action: 2\n",
      "[(0.3333333333333333, 8, 0.0, False), (0.3333333333333333, 5, 0.0, True), (0.3333333333333333, 0, 0.0, False)]\n",
      "\n",
      "state: 4, action: 3\n",
      "[(0.3333333333333333, 5, 0.0, True), (0.3333333333333333, 0, 0.0, False), (0.3333333333333333, 4, 0.0, False)]\n",
      "\n",
      "state: 5, action: 0\n",
      "[(1.0, 5, 0, True)]\n",
      "\n",
      "state: 5, action: 1\n",
      "[(1.0, 5, 0, True)]\n",
      "\n",
      "state: 5, action: 2\n",
      "[(1.0, 5, 0, True)]\n",
      "\n",
      "state: 5, action: 3\n",
      "[(1.0, 5, 0, True)]\n",
      "\n",
      "state: 6, action: 0\n",
      "[(0.3333333333333333, 2, 0.0, False), (0.3333333333333333, 5, 0.0, True), (0.3333333333333333, 10, 0.0, False)]\n",
      "\n",
      "state: 6, action: 1\n",
      "[(0.3333333333333333, 5, 0.0, True), (0.3333333333333333, 10, 0.0, False), (0.3333333333333333, 7, 0.0, True)]\n",
      "\n",
      "state: 6, action: 2\n",
      "[(0.3333333333333333, 10, 0.0, False), (0.3333333333333333, 7, 0.0, True), (0.3333333333333333, 2, 0.0, False)]\n",
      "\n",
      "state: 6, action: 3\n",
      "[(0.3333333333333333, 7, 0.0, True), (0.3333333333333333, 2, 0.0, False), (0.3333333333333333, 5, 0.0, True)]\n",
      "\n",
      "state: 7, action: 0\n",
      "[(1.0, 7, 0, True)]\n",
      "\n",
      "state: 7, action: 1\n",
      "[(1.0, 7, 0, True)]\n",
      "\n",
      "state: 7, action: 2\n",
      "[(1.0, 7, 0, True)]\n",
      "\n",
      "state: 7, action: 3\n",
      "[(1.0, 7, 0, True)]\n",
      "\n",
      "state: 8, action: 0\n",
      "[(0.3333333333333333, 4, 0.0, False), (0.3333333333333333, 8, 0.0, False), (0.3333333333333333, 12, 0.0, True)]\n",
      "\n",
      "state: 8, action: 1\n",
      "[(0.3333333333333333, 8, 0.0, False), (0.3333333333333333, 12, 0.0, True), (0.3333333333333333, 9, 0.0, False)]\n",
      "\n",
      "state: 8, action: 2\n",
      "[(0.3333333333333333, 12, 0.0, True), (0.3333333333333333, 9, 0.0, False), (0.3333333333333333, 4, 0.0, False)]\n",
      "\n",
      "state: 8, action: 3\n",
      "[(0.3333333333333333, 9, 0.0, False), (0.3333333333333333, 4, 0.0, False), (0.3333333333333333, 8, 0.0, False)]\n",
      "\n",
      "state: 9, action: 0\n",
      "[(0.3333333333333333, 5, 0.0, True), (0.3333333333333333, 8, 0.0, False), (0.3333333333333333, 13, 0.0, False)]\n",
      "\n",
      "state: 9, action: 1\n",
      "[(0.3333333333333333, 8, 0.0, False), (0.3333333333333333, 13, 0.0, False), (0.3333333333333333, 10, 0.0, False)]\n",
      "\n",
      "state: 9, action: 2\n",
      "[(0.3333333333333333, 13, 0.0, False), (0.3333333333333333, 10, 0.0, False), (0.3333333333333333, 5, 0.0, True)]\n",
      "\n",
      "state: 9, action: 3\n",
      "[(0.3333333333333333, 10, 0.0, False), (0.3333333333333333, 5, 0.0, True), (0.3333333333333333, 8, 0.0, False)]\n",
      "\n",
      "state: 10, action: 0\n",
      "[(0.3333333333333333, 6, 0.0, False), (0.3333333333333333, 9, 0.0, False), (0.3333333333333333, 14, 0.0, False)]\n",
      "\n",
      "state: 10, action: 1\n",
      "[(0.3333333333333333, 9, 0.0, False), (0.3333333333333333, 14, 0.0, False), (0.3333333333333333, 11, 0.0, True)]\n",
      "\n",
      "state: 10, action: 2\n",
      "[(0.3333333333333333, 14, 0.0, False), (0.3333333333333333, 11, 0.0, True), (0.3333333333333333, 6, 0.0, False)]\n",
      "\n",
      "state: 10, action: 3\n",
      "[(0.3333333333333333, 11, 0.0, True), (0.3333333333333333, 6, 0.0, False), (0.3333333333333333, 9, 0.0, False)]\n",
      "\n",
      "state: 11, action: 0\n",
      "[(1.0, 11, 0, True)]\n",
      "\n",
      "state: 11, action: 1\n",
      "[(1.0, 11, 0, True)]\n",
      "\n",
      "state: 11, action: 2\n",
      "[(1.0, 11, 0, True)]\n",
      "\n",
      "state: 11, action: 3\n",
      "[(1.0, 11, 0, True)]\n",
      "\n",
      "state: 12, action: 0\n",
      "[(1.0, 12, 0, True)]\n",
      "\n",
      "state: 12, action: 1\n",
      "[(1.0, 12, 0, True)]\n",
      "\n",
      "state: 12, action: 2\n",
      "[(1.0, 12, 0, True)]\n",
      "\n",
      "state: 12, action: 3\n",
      "[(1.0, 12, 0, True)]\n",
      "\n",
      "state: 13, action: 0\n",
      "[(0.3333333333333333, 9, 0.0, False), (0.3333333333333333, 12, 0.0, True), (0.3333333333333333, 13, 0.0, False)]\n",
      "\n",
      "state: 13, action: 1\n",
      "[(0.3333333333333333, 12, 0.0, True), (0.3333333333333333, 13, 0.0, False), (0.3333333333333333, 14, 0.0, False)]\n",
      "\n",
      "state: 13, action: 2\n",
      "[(0.3333333333333333, 13, 0.0, False), (0.3333333333333333, 14, 0.0, False), (0.3333333333333333, 9, 0.0, False)]\n",
      "\n",
      "state: 13, action: 3\n",
      "[(0.3333333333333333, 14, 0.0, False), (0.3333333333333333, 9, 0.0, False), (0.3333333333333333, 12, 0.0, True)]\n",
      "\n",
      "state: 14, action: 0\n",
      "[(0.3333333333333333, 10, 0.0, False), (0.3333333333333333, 13, 0.0, False), (0.3333333333333333, 14, 0.0, False)]\n",
      "\n",
      "state: 14, action: 1\n",
      "[(0.3333333333333333, 13, 0.0, False), (0.3333333333333333, 14, 0.0, False), (0.3333333333333333, 15, 1.0, True)]\n",
      "\n",
      "state: 14, action: 2\n",
      "[(0.3333333333333333, 14, 0.0, False), (0.3333333333333333, 15, 1.0, True), (0.3333333333333333, 10, 0.0, False)]\n",
      "\n",
      "state: 14, action: 3\n",
      "[(0.3333333333333333, 15, 1.0, True), (0.3333333333333333, 10, 0.0, False), (0.3333333333333333, 13, 0.0, False)]\n",
      "\n",
      "state: 15, action: 0\n",
      "[(1.0, 15, 0, True)]\n",
      "\n",
      "state: 15, action: 1\n",
      "[(1.0, 15, 0, True)]\n",
      "\n",
      "state: 15, action: 2\n",
      "[(1.0, 15, 0, True)]\n",
      "\n",
      "state: 15, action: 3\n",
      "[(1.0, 15, 0, True)]\n",
      "\n"
     ]
    }
   ],
   "source": [
    "for state in range(env.observation_space.n):\n",
    "    for action in range(env.action_space.n):\n",
    "        print(\"state: {}, action: {}\".format(state, action))\n",
    "        print(env.P[state][action])\n",
    "        print()"
   ]
  },
  {
   "cell_type": "code",
   "execution_count": 40,
   "metadata": {},
   "outputs": [],
   "source": [
    "def compute_value_function(policy, gamma = 1.0):\n",
    "    value_table = np.zeros(env.nS)\n",
    "    threshold = 1e-10\n",
    "    while True:\n",
    "        updated_value_table = value_table.copy()\n",
    "        for state in range(env.nS):\n",
    "            action = policy[state]\n",
    "                \n",
    "            value_table[state] = sum([trans_prob * (reward_prob + gamma *updated_value_table[next_state])\\\n",
    "                                      for trans_prob, next_state, reward_prob, _ in env.P[state][action]])\n",
    "\n",
    "        #print(np.sum(np.fabs(updated_value_table-value_table)))\n",
    "        if(np.sum(np.fabs(updated_value_table-value_table))<=threshold):\n",
    "            break\n",
    "    return value_table\n",
    "                                      "
   ]
  },
  {
   "cell_type": "code",
   "execution_count": 41,
   "metadata": {},
   "outputs": [
    {
     "name": "stdout",
     "output_type": "stream",
     "text": [
      "16\n"
     ]
    }
   ],
   "source": [
    "print(env.nS)"
   ]
  },
  {
   "cell_type": "code",
   "execution_count": 42,
   "metadata": {},
   "outputs": [],
   "source": [
    "random_policy = np.zeros(env.nS)\n",
    "optimize_value_table = compute_value_function(random_policy)"
   ]
  },
  {
   "cell_type": "code",
   "execution_count": 43,
   "metadata": {},
   "outputs": [],
   "source": [
    "def policy_iteration(env,gamma = 1.0):\n",
    "    random_policy = np.zeros(env.observation_space.n)\n",
    "    no_of_iterations = 200\n",
    "    for i in range(no_of_iterations):\n",
    "        new_value_function = compute_value_function(random_policy, gamma)\n",
    "        new_policy = extract_policy(new_value_function, gamma)\n",
    "        if(np.all(random_policy==new_policy)):\n",
    "            print('Policy-Iteration converged at step %d.' %(i+1))\n",
    "            break\n",
    "        if(i%10==0):\n",
    "            print('iter: ',i,new_policy)\n",
    "        random_policy = new_policy\n",
    "    return new_policy"
   ]
  },
  {
   "cell_type": "code",
   "execution_count": 44,
   "metadata": {},
   "outputs": [
    {
     "name": "stdout",
     "output_type": "stream",
     "text": [
      "iter:  0 [0. 0. 0. 0. 0. 0. 0. 0. 0. 0. 0. 0. 0. 0. 1. 0.]\n",
      "Policy-Iteration converged at step 7.\n"
     ]
    }
   ],
   "source": [
    "optimal_policy = policy_iteration(env,gamma=1.0)"
   ]
  },
  {
   "cell_type": "code",
   "execution_count": 45,
   "metadata": {},
   "outputs": [
    {
     "name": "stdout",
     "output_type": "stream",
     "text": [
      "[0. 3. 3. 3. 0. 0. 0. 0. 3. 1. 0. 0. 0. 2. 1. 0.]\n"
     ]
    }
   ],
   "source": [
    "print(optimal_policy)"
   ]
  },
  {
   "cell_type": "code",
   "execution_count": 52,
   "metadata": {},
   "outputs": [
    {
     "name": "stdout",
     "output_type": "stream",
     "text": [
      "\n",
      "\u001b[41mS\u001b[0mFFF\n",
      "FHFH\n",
      "FFFH\n",
      "HFFG\n",
      "0.0\n",
      "  (Left)\n",
      "\u001b[41mS\u001b[0mFFF\n",
      "FHFH\n",
      "FFFH\n",
      "HFFG\n",
      "3.0\n",
      "  (Up)\n",
      "S\u001b[41mF\u001b[0mFF\n",
      "FHFH\n",
      "FFFH\n",
      "HFFG\n",
      "3.0\n",
      "  (Up)\n",
      "SF\u001b[41mF\u001b[0mF\n",
      "FHFH\n",
      "FFFH\n",
      "HFFG\n",
      "3.0\n",
      "  (Up)\n",
      "SFF\u001b[41mF\u001b[0m\n",
      "FHFH\n",
      "FFFH\n",
      "HFFG\n",
      "0.0\n",
      "  (Left)\n",
      "SF\u001b[41mF\u001b[0mF\n",
      "FHFH\n",
      "FFFH\n",
      "HFFG\n",
      "0.0\n",
      "  (Left)\n",
      "SF\u001b[41mF\u001b[0mF\n",
      "FHFH\n",
      "FFFH\n",
      "HFFG\n",
      "0.0\n",
      "  (Left)\n",
      "S\u001b[41mF\u001b[0mFF\n",
      "FHFH\n",
      "FFFH\n",
      "HFFG\n",
      "0.0\n",
      "  (Left)\n",
      "SFFF\n",
      "F\u001b[41mH\u001b[0mFH\n",
      "FFFH\n",
      "HFFG\n"
     ]
    }
   ],
   "source": [
    "# frozen-lake-ex2.py\n",
    "import gym\n",
    " \n",
    "MAX_ITERATIONS = 10\n",
    " \n",
    "env = gym.make(\"FrozenLake-v0\")\n",
    "env.reset()\n",
    "env.render()\n",
    "for i in optimal_policy:\n",
    "    random_action = env.action_space.sample()\n",
    "    print(i)\n",
    "    new_state, reward, done, info = env.step(\n",
    "       int(i))\n",
    "    env.render()\n",
    "    if done:\n",
    "        break"
   ]
  },
  {
   "cell_type": "code",
   "execution_count": null,
   "metadata": {},
   "outputs": [],
   "source": []
  }
 ],
 "metadata": {
  "kernelspec": {
   "display_name": "Python 3",
   "language": "python",
   "name": "python3"
  },
  "language_info": {
   "codemirror_mode": {
    "name": "ipython",
    "version": 3
   },
   "file_extension": ".py",
   "mimetype": "text/x-python",
   "name": "python",
   "nbconvert_exporter": "python",
   "pygments_lexer": "ipython3",
   "version": "3.7.6"
  }
 },
 "nbformat": 4,
 "nbformat_minor": 4
}
