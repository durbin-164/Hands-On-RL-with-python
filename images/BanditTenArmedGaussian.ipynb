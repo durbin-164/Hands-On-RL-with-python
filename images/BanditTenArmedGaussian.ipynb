{
 "nbformat": 4,
 "nbformat_minor": 2,
 "metadata": {
  "language_info": {
   "name": "python",
   "codemirror_mode": {
    "name": "ipython",
    "version": 3
   },
   "version": "3.7.6-final"
  },
  "orig_nbformat": 2,
  "file_extension": ".py",
  "mimetype": "text/x-python",
  "name": "python",
  "npconvert_exporter": "python",
  "pygments_lexer": "ipython3",
  "version": 3,
  "kernelspec": {
   "name": "python37664bituniverseconda5fd94964162d4bf28cae12908ceb3b9d",
   "display_name": "Python 3.7.6 64-bit ('universe': conda)"
  }
 },
 "cells": [
  {
   "cell_type": "code",
   "execution_count": 3,
   "metadata": {},
   "outputs": [],
   "source": [
    "import gym_bandits\n",
    "import gym\n",
    "import numpy as np\n",
    "import matplotlib.pyplot as plt\n"
   ]
  },
  {
   "cell_type": "code",
   "execution_count": 4,
   "metadata": {},
   "outputs": [],
   "source": [
    "env = gym.make('BanditTenArmedGaussian-v0')"
   ]
  },
  {
   "cell_type": "code",
   "execution_count": 5,
   "metadata": {},
   "outputs": [
    {
     "data": {
      "text/plain": "Discrete(10)"
     },
     "execution_count": 5,
     "metadata": {},
     "output_type": "execute_result"
    }
   ],
   "source": [
    "env.action_space"
   ]
  },
  {
   "cell_type": "code",
   "execution_count": 14,
   "metadata": {},
   "outputs": [],
   "source": [
    "num_rounds = 20000\n",
    "count = np.zeros(env.action_space.n)\n",
    "sum_rewards = np.zeros(env.action_space.n)\n",
    "Q = np.zeros(env.action_space.n)\n"
   ]
  },
  {
   "cell_type": "code",
   "execution_count": 15,
   "metadata": {},
   "outputs": [],
   "source": [
    "def epsilon_greedy(epsilon):\n",
    "    if np.random.random()<epsilon:\n",
    "        action = env.action_space.sample()\n",
    "    else:\n",
    "        action = np.argmax(Q)\n",
    "    return action"
   ]
  },
  {
   "cell_type": "code",
   "execution_count": 30,
   "metadata": {},
   "outputs": [
    {
     "name": "stdout",
     "output_type": "stream",
     "text": "The optimal arm is 5\n[-0.86091608 -1.42025976  0.02989954  0.51287409  0.82878653  2.22793341\n  0.32303098  1.25657228 -0.03120849 -0.73802202]\n"
    }
   ],
   "source": [
    "for i in range(num_rounds):\n",
    "    arm = epsilon_greedy(0.1)\n",
    "\n",
    "    observation, reward,done, info = env.step(arm)\n",
    "\n",
    "    count[arm]+=1\n",
    "\n",
    "    sum_rewards[arm]+= reward\n",
    "\n",
    "    Q[arm] = sum_rewards[arm]/count[arm]\n",
    "\n",
    "print('The optimal arm is {}'.format(np.argmax(Q)))\n",
    "print(Q)"
   ]
  },
  {
   "cell_type": "code",
   "execution_count": 28,
   "metadata": {},
   "outputs": [
    {
     "name": "stdout",
     "output_type": "stream",
     "text": "0.756625221762211\n"
    }
   ],
   "source": [
    "print(np.random.random())"
   ]
  },
  {
   "cell_type": "code",
   "execution_count": null,
   "metadata": {},
   "outputs": [],
   "source": []
  }
 ]
}